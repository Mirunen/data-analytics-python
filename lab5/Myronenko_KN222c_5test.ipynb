{
 "cells": [
  {
   "cell_type": "code",
   "execution_count": null,
   "id": "c0bc5957-f57a-472d-bd8b-af9366a067ab",
   "metadata": {},
   "outputs": [],
   "source": [
    "import numpy as np\n",
    "import pandas as pd\n",
    "import cv2 as cv\n",
    "import matplotlib.pyplot as plt\n",
    "import matplotlib.colors as colors\n",
    "from PIL import Image, ImageDraw"
   ]
  },
  {
   "cell_type": "code",
   "execution_count": null,
   "id": "b1004cf9-db8b-45d5-9bfa-60a60cac5fd1",
   "metadata": {},
   "outputs": [],
   "source": [
    "n = ord(\"I\") % 5 + 1"
   ]
  },
  {
   "cell_type": "code",
   "execution_count": null,
   "id": "c0cb2b51-e3b3-40c8-a673-8e863ed345b3",
   "metadata": {},
   "outputs": [],
   "source": [
    "pictures = pd.read_excel(\"lab6.xlsx\")\n",
    "currentImg = pictures.iloc[n - 1]\n",
    "display(currentImg)"
   ]
  },
  {
   "cell_type": "code",
   "execution_count": null,
   "id": "f79e3df1-2f49-405a-9f2e-010e6e30a6a5",
   "metadata": {},
   "outputs": [],
   "source": [
    "face_cascade = cv.CascadeClassifier(\"face_recognition/haarcascade_frontalface_alt.xml\")\n",
    "eyes_cascade = cv.CascadeClassifier(\"face_recognition/haarcascade_eye.xml\")"
   ]
  },
  {
   "cell_type": "code",
   "execution_count": null,
   "id": "8dd366b4-89ae-405e-92c0-920c98628af8",
   "metadata": {},
   "outputs": [],
   "source": [
    "def glass(img, color_name: str, width: int):\n",
    "    img = cv.cvtColor(img, cv.COLOR_BGR2RGB)\n",
    "    eyes = eyes_cascade.detectMultiScale(img)\n",
    "\n",
    "    #солір\n",
    "    rgb_list = []\n",
    "    color = colors.to_rgb(color_name)\n",
    "    for c in color:\n",
    "        rgb_list.append(int(c * 255))\n",
    "    rgb = tuple(rgb_list)\n",
    "    \n",
    "    #лінзи\n",
    "    for ex, ey, ew, eh in eyes:\n",
    "        # l_b.append([ex+ew, int(ey+eh/2)])\n",
    "        cx = ex+ew/2\n",
    "        cy = ey+eh/2\n",
    "        cv.circle(img, (int(cx), int(cy)), 33, rgb, width)\n",
    "    \n",
    "    #перенісся\n",
    "    bridge = []\n",
    "    bridge.append([int(eyes[0][0]), int(eyes[0][1] + eyes[0][3]/2)])\n",
    "    bridge.append([int(eyes[1][0] + eyes[1][2]), int(eyes[1][1] + eyes[1][3]/2)])\n",
    "    \n",
    "    #ліва дужка\n",
    "    left = []\n",
    "    y = int(eyes[1][1] + eyes[1][3]/2)\n",
    "    x = int(eyes[1][0])\n",
    "    left.append([x - 30, y])\n",
    "    left.append([x, y])\n",
    "    \n",
    "    #права дужка\n",
    "    right = []\n",
    "    y = int(eyes[0][1] + eyes[0][3]/2)\n",
    "    x = int(eyes[0][0] + eyes[0][2])\n",
    "    right.append([x, y])\n",
    "    right.append([x + 30, y])\n",
    "    \n",
    "    #малювання прямих ліній\n",
    "    cv.line(img, tuple(bridge[1]), tuple(bridge[0]), rgb, width)\n",
    "    cv.line(img, tuple(left[0]), tuple(left[1]), rgb, width)\n",
    "    cv.line(img, tuple(right[0]), tuple(right[1]), rgb, width)\n",
    "    \n",
    "    return img"
   ]
  },
  {
   "cell_type": "code",
   "execution_count": null,
   "id": "a72f76e8-2f0c-4f41-8d36-639ca399ddfd",
   "metadata": {},
   "outputs": [],
   "source": [
    "img = cv.imread(\"Images/\" + currentImg.loc['file name'])\n",
    "color = currentImg.loc['glasses color']\n",
    "width = currentImg.loc['line width']\n",
    "\n",
    "display(Image.fromarray(glass(img, color, width), mode='RGB'))\n",
    "# plt.imshow(glass(img, color, width))"
   ]
  },
  {
   "cell_type": "code",
   "execution_count": null,
   "id": "cf0b01ae-0167-4605-8c7f-69e62bebe476",
   "metadata": {},
   "outputs": [],
   "source": []
  }
 ],
 "metadata": {
  "kernelspec": {
   "display_name": "Python 3 (ipykernel)",
   "language": "python",
   "name": "python3"
  },
  "language_info": {
   "codemirror_mode": {
    "name": "ipython",
    "version": 3
   },
   "file_extension": ".py",
   "mimetype": "text/x-python",
   "name": "python",
   "nbconvert_exporter": "python",
   "pygments_lexer": "ipython3",
   "version": "3.12.0"
  }
 },
 "nbformat": 4,
 "nbformat_minor": 5
}
