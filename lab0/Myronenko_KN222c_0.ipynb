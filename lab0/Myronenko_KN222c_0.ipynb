{
 "cells": [
  {
   "cell_type": "code",
   "execution_count": 1,
   "id": "1422bf11-c399-44cb-8d7d-570b4bfba072",
   "metadata": {},
   "outputs": [
    {
     "name": "stdout",
     "output_type": "stream",
     "text": [
      "Варіант №4\n"
     ]
    }
   ],
   "source": [
    "n = ord('I') % 10 + 1\n",
    "print(f\"Варіант №{n}\")"
   ]
  },
  {
   "cell_type": "markdown",
   "id": "c4d5be71-789b-406d-83a7-1514aa96a79c",
   "metadata": {},
   "source": [
    "# Джибуті\n",
    "![](./Flag.svg)![](./Emblem_of_Djibouti.png)\n",
    "\n",
    "Джибу́ті (фр. *Djibouti*; араб. جيبوتي‎ Jībūtī; сом. *Jabuuti*), офіційно **Республіка Джибуті** — держава на півночі Африканського Рогу\n",
    "\n",
    "## Розміщення\n",
    "Межує із *[Еритреєю](https://uk.wikipedia.org/wiki/%D0%95%D1%80%D0%B8%D1%82%D1%80%D0%B5%D1%8F)* на півночі, з *[Ефіопією](https://uk.wikipedia.org/wiki/%D0%95%D1%84%D1%96%D0%BE%D0%BF%D1%96%D1%8F)* — на заході й півдні, з *[Сомалі](https://uk.wikipedia.org/wiki/%D0%A1%D0%BE%D0%BC%D0%B0%D0%BB%D1%96)* — на південному-сході. Решта кордону проходить по *[Червоному морю](https://uk.wikipedia.org/wiki/%D0%A7%D0%B5%D1%80%D0%B2%D0%BE%D0%BD%D0%B5_%D0%BC%D0%BE%D1%80%D0%B5)* і *[Аденській затоці](https://uk.wikipedia.org/wiki/%D0%90%D0%B4%D0%B5%D0%BD%D1%81%D1%8C%D0%BA%D0%B0_%D0%B7%D0%B0%D1%82%D0%BE%D0%BA%D0%B0)*. По іншу сторону Червоного моря, на *[Аравійському півострові](https://uk.wikipedia.org/wiki/%D0%90%D1%80%D0%B0%D0%B2%D1%96%D0%B9%D1%81%D1%8C%D0%BA%D0%B8%D0%B9_%D0%BF%D1%96%D0%B2%D0%BE%D1%81%D1%82%D1%80%D1%96%D0%B2)*, за 20 км від узбережжя Джибуті, розташована республіка *[Ємен](https://uk.wikipedia.org/wiki/%D0%84%D0%BC%D0%B5%D0%BD)*.\n",
    "\n",
    "## Географічні дані\n",
    "### Територіальні дані\n",
    "Джибуті — розміром близько 23 200 квадратних кілометрів. Столицею країни й головним портом є місто Джибуті.\n",
    "![Місто Джибуті](https://upload.wikimedia.org/wikipedia/commons/6/6f/Djibouti_Ville.jpg)\n",
    "\n",
    "### Клімат\n",
    "\n",
    "| Показник | Січ | Лют | Бер | Кві | Тра | Чер | Лип | Сер | Вер | Жов | Лис | Гру | \n",
    "| :----------------- | ---- | ---- | ---- | ---- | ---- | ---- | ---- | ---- | ---- | ---- | ---- | ---- |\n",
    "| Абсолютний максимум, <sup>o</sup>C |  34 | 34 | 37 | 38 | 44 | 47 | 47 | 47 | 44 | 39 | 36 | 34 |\n",
    "| Середній максимум, <sup>o</sup>C |  29 | 29 | 31 | 32 | 34 | 37 | 41 | 39 | 36 | 33 | 31 | 29 |\n",
    "| Середній мінімум, <sup>o</sup>C |  23 | 24 | 25 | 26 | 28 | 30 | 31 | 29 | 29 | 27 | 25 | 23 |\n",
    "| Абсолютний мінімум, <sup>o</sup>C |  19 | 18 | 21 | 21 | 21 | 23 | 22 | 22 | 23 | 21 | 18 | 17 |\n",
    "| Кількість дощових днів |  3 | 2 | 2 | 1 | 1 | 0 | 1 | 1 | 1 | 1 | 2 | 2 |\n",
    "\n",
    "### Роcлинний світ\n",
    "\n",
    "<p style=\"border: 2px solid #119134; padding: 5px; border-radius: 10px\">\n",
    "    Флора в основному пустельна і злаково-чагарникові напівпустелі (злакові, різноманітні акації). Трав'яний покрив, в якому переважають малопоживні види, сильно розріджений. Лише на окремих вершинах і звернених до океану схилах Данакільського хребта, де випадає близько 400 мм опадів в рік, трапляються ділянки рідкостійних лісів з деревоподібними формами ялівцю, оливкових дерев, мімоз і акацій.\n",
    "</p>\n",
    "\n",
    "### Тваринний світ\n",
    "\n",
    "+ <span style=\"color:#9c5c13\">***Земні істоти***</span>\n",
    "  1. Ссавці\n",
    "      + Антилопа-орикс\n",
    "      + Антилопа куду\n",
    "      + Гієна\n",
    "      + Шакал\n",
    "      + Бородавочник\n",
    "      + Мангуст\n",
    "      + Медоїд\n",
    "      + Дика кішка\n",
    "      + Сахарська лисиця\n",
    "    2. Птахи(240 видів)\n",
    "    3. Плазуни\n",
    "       + Морська черепаха\n",
    "       + Варан\n",
    "       + Кобра\n",
    "       + Пітон\n",
    "    4.     \n",
    "+ <span style=\"color:#1b22a8\">***Водні істоти***</span>\n",
    "    1. Кораловий риф\n",
    "    2. Промилова риба\n",
    "    3. Краб\n",
    "    4. Лангуст\n",
    "\n",
    "## Політичний устрій\n",
    "Джибуті за формою правління є <span style=\"color:red\">**президентською республікою**</span>, глава держави — <span style=\"color:red\">**президент**</span>. Державний устрій — <span style=\"color:#3ba9bf\">**унітарна держава**</span>. У країні діє конституція, яка була схвалена на референдумі <span style=\"color:#3ba9bf\">***4 вересня 1992 року***</span> і набула чинності 15 вересня 1992 року.\n"
   ]
  },
  {
   "cell_type": "code",
   "execution_count": 3,
   "id": "fb097e0a-957f-4e64-8bd6-1a062c00f146",
   "metadata": {},
   "outputs": [
    {
     "name": "stdout",
     "output_type": "stream",
     "text": [
      "Введіть числа через пробіл для їх сортування\n"
     ]
    },
    {
     "name": "stdin",
     "output_type": "stream",
     "text": [
      " 2 3 7 6 12 10\n"
     ]
    },
    {
     "name": "stdout",
     "output_type": "stream",
     "text": [
      "Здійснено переставлень: 2\n",
      "Масив після сортування: [2, 3, 6, 7, 10, 12]\n"
     ]
    }
   ],
   "source": [
    "def check_value(some_list):\n",
    "    i = 0\n",
    "    for item in some_list:\n",
    "        if item.isdigit():\n",
    "            some_list[i] = int(item)\n",
    "        else:\n",
    "            return False\n",
    "        i += 1\n",
    "\n",
    "    return True\n",
    "\n",
    "def bubble_sort(some_list):\n",
    "    step = 0\n",
    "    l = len(some_list)\n",
    "    swapped = True\n",
    "    x = -1\n",
    "\n",
    "    while swapped:\n",
    "        swapped = False\n",
    "        x += 1\n",
    "        for i in range(0, l - x):\n",
    "            if i < l - x - 1 and some_list[i] > some_list[i + 1]:\n",
    "                temp = some_list[i]\n",
    "                some_list[i] = some_list[i + 1]\n",
    "                some_list[i + 1] = temp\n",
    "                swapped = True\n",
    "                step += 1\n",
    "\n",
    "    return step\n",
    "\n",
    "print(\"Введіть числа через пробіл для їх сортування\")\n",
    "my_list = [item for item in input().split()]\n",
    "if check_value(my_list):\n",
    "    print(f\"Здійснено переставлень: {bubble_sort(my_list)}\")\n",
    "    print(f\"Масив після сортування: {my_list}\")\n",
    "else:\n",
    "    print(\"У масиві присутні нечислові значення\")\n"
   ]
  },
  {
   "cell_type": "code",
   "execution_count": null,
   "id": "1bbca149-72d1-4dca-b649-aa73865b94e0",
   "metadata": {},
   "outputs": [],
   "source": []
  }
 ],
 "metadata": {
  "kernelspec": {
   "display_name": "Python 3 (ipykernel)",
   "language": "python",
   "name": "python3"
  },
  "language_info": {
   "codemirror_mode": {
    "name": "ipython",
    "version": 3
   },
   "file_extension": ".py",
   "mimetype": "text/x-python",
   "name": "python",
   "nbconvert_exporter": "python",
   "pygments_lexer": "ipython3",
   "version": "3.12.0"
  }
 },
 "nbformat": 4,
 "nbformat_minor": 5
}
